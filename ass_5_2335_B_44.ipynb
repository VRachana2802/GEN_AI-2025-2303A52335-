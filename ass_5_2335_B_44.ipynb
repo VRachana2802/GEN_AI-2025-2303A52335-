{
  "nbformat": 4,
  "nbformat_minor": 0,
  "metadata": {
    "colab": {
      "provenance": [],
      "authorship_tag": "ABX9TyNbkEID7Sm9PfTDLidwtUfO",
      "include_colab_link": true
    },
    "kernelspec": {
      "name": "python3",
      "display_name": "Python 3"
    },
    "language_info": {
      "name": "python"
    }
  },
  "cells": [
    {
      "cell_type": "markdown",
      "metadata": {
        "id": "view-in-github",
        "colab_type": "text"
      },
      "source": [
        "<a href=\"https://colab.research.google.com/github/VRachana2802/GEN_AI-2025-2303A52335-/blob/main/ass_5_2335_B_44.ipynb\" target=\"_parent\"><img src=\"https://colab.research.google.com/assets/colab-badge.svg\" alt=\"Open In Colab\"/></a>"
      ]
    },
    {
      "cell_type": "code",
      "execution_count": 1,
      "metadata": {
        "colab": {
          "base_uri": "https://localhost:8080/"
        },
        "id": "qWxqz97fvkvC",
        "outputId": "c0847d9c-9486-49f4-da9e-53e7f3d1a931"
      },
      "outputs": [
        {
          "output_type": "stream",
          "name": "stdout",
          "text": [
            "Epoch 0, Loss: 0.012809\n",
            "Epoch 1000, Loss: 0.000006\n",
            "Epoch 2000, Loss: 0.000006\n",
            "Epoch 3000, Loss: 0.000006\n",
            "Epoch 4000, Loss: 0.000006\n",
            "Epoch 5000, Loss: 0.000006\n",
            "Epoch 6000, Loss: 0.000005\n",
            "Epoch 7000, Loss: 0.000005\n",
            "Epoch 8000, Loss: 0.000005\n",
            "Epoch 9000, Loss: 0.000005\n",
            "Test Loss: 0.000013\n",
            "Enter x1: 0.1\n",
            "Enter x2: 0.2\n",
            "Predicted Output: 0.340075\n"
          ]
        }
      ],
      "source": [
        "import numpy as np\n",
        "def sigmoid(x):\n",
        "    return 1 / (1 + np.exp(-x))\n",
        "\n",
        "def sigmoid_derivative(x):\n",
        "    return x * (1 - x)\n",
        "\n",
        "def mean_squared_error(y_true, y_pred):\n",
        "    return np.mean((y_true - y_pred) ** 2)\n",
        "\n",
        "x_train = np.array([[0.1, 0.2], [0.2, 0.3], [0.3, 0.4], [0.6, 0.7], [0.7, 0.8], [0.8, 0.9]])\n",
        "y_train = np.array([[0.3432], [0.3490], [0.3548], [0.3720], [0.3776], [0.3832]])\n",
        "\n",
        "x_test = np.array([[0.4, 0.5], [0.5, 0.6]])\n",
        "y_test = np.array([[0.3606], [0.3663]])\n",
        "\n",
        "input_neurons = 2\n",
        "hidden_neurons = 3\n",
        "output_neurons = 1\n",
        "learning_rate = 0.1\n",
        "epochs = 10000\n",
        "\n",
        "np.random.seed(42)\n",
        "w1 = np.random.randn(input_neurons, hidden_neurons)\n",
        "b1 = np.random.randn(1, hidden_neurons)\n",
        "w2 = np.random.randn(hidden_neurons, output_neurons)\n",
        "b2 = np.random.randn(1, output_neurons)\n",
        "\n",
        "for epoch in range(epochs):\n",
        "    hidden_input = np.dot(x_train, w1) + b1\n",
        "    hidden_output = sigmoid(hidden_input)\n",
        "    final_input = np.dot(hidden_output, w2) + b2\n",
        "    final_output = final_input\n",
        "    loss = mean_squared_error(y_train, final_output)\n",
        "\n",
        "    error = y_train - final_output\n",
        "    d_output = error\n",
        "\n",
        "    error_hidden = d_output.dot(w2.T) * sigmoid_derivative(hidden_output)\n",
        "\n",
        "    w2 += hidden_output.T.dot(d_output) * learning_rate\n",
        "    b2 += np.sum(d_output, axis=0, keepdims=True) * learning_rate\n",
        "    w1 += x_train.T.dot(error_hidden) * learning_rate\n",
        "    b1 += np.sum(error_hidden, axis=0, keepdims=True) * learning_rate\n",
        "\n",
        "    if epoch % 1000 == 0:\n",
        "        print(f\"Epoch {epoch}, Loss: {loss:.6f}\")\n",
        "\n",
        "test_hidden_input = np.dot(x_test, w1) + b1\n",
        "test_hidden_output = sigmoid(test_hidden_input)\n",
        "test_final_input = np.dot(test_hidden_output, w2) + b2\n",
        "test_final_output = test_final_input\n",
        "\n",
        "test_loss = mean_squared_error(y_test, test_final_output)\n",
        "print(f\"Test Loss: {test_loss:.6f}\")\n",
        "\n",
        "x_input = np.array([float(input(\"Enter x1: \")), float(input(\"Enter x2: \"))]).reshape(1, -1)\n",
        "pred_hidden_input = np.dot(x_input, w1) + b1\n",
        "pred_hidden_output = sigmoid(pred_hidden_input)\n",
        "pred_final_input = np.dot(pred_hidden_output, w2) + b2\n",
        "print(f\"Predicted Output: {pred_final_input[0,0]:.6f}\")"
      ]
    }
  ]
}