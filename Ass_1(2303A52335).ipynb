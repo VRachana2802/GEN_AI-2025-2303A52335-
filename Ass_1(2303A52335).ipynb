{
  "nbformat": 4,
  "nbformat_minor": 0,
  "metadata": {
    "colab": {
      "provenance": [],
      "authorship_tag": "ABX9TyO1DUOqj4bjEo+g3dskFmMa",
      "include_colab_link": true
    },
    "kernelspec": {
      "name": "python3",
      "display_name": "Python 3"
    },
    "language_info": {
      "name": "python"
    }
  },
  "cells": [
    {
      "cell_type": "markdown",
      "metadata": {
        "id": "view-in-github",
        "colab_type": "text"
      },
      "source": [
        "<a href=\"https://colab.research.google.com/github/VRachana2802/GEN_AI-2025-2303A52335-/blob/main/Ass_1(2303A52335).ipynb\" target=\"_parent\"><img src=\"https://colab.research.google.com/assets/colab-badge.svg\" alt=\"Open In Colab\"/></a>"
      ]
    },
    {
      "cell_type": "code",
      "execution_count": null,
      "metadata": {
        "colab": {
          "base_uri": "https://localhost:8080/"
        },
        "id": "cQX9shNRR_8B",
        "outputId": "b570dc31-6709-4262-c317-5de3e1fb1848"
      },
      "outputs": [
        {
          "output_type": "stream",
          "name": "stdout",
          "text": [
            "Manual Calculation Results:\n",
            "Mean Absolute Error (MAE): 0.4600000000000016\n",
            "Mean Squared Error (MSE): 0.24600000000000147\n",
            "Root Mean Squared Error (RMSE): 0.49598387070549127\n"
          ]
        }
      ],
      "source": [
        "import numpy as np\n",
        "Y_actual = [20, 30, 40, 50, 60]\n",
        "Y_pred = [20.5, 30.3, 40.2, 50.6, 60.7]\n",
        "def calculate_mae(y_actual, y_pred):\n",
        "    error_sum = 0\n",
        "    for actual, pred in zip(y_actual, y_pred):\n",
        "        error_sum += abs(actual - pred)\n",
        "    mae = error_sum / len(y_actual)\n",
        "    return mae\n",
        "def calculate_mse(y_actual, y_pred):\n",
        "    error_sum = 0\n",
        "    for actual, pred in zip(y_actual, y_pred):\n",
        "        error_sum += (actual - pred) ** 2\n",
        "    mse = error_sum / len(y_actual)\n",
        "    return mse\n",
        "def calculate_rmse(y_actual, y_pred):\n",
        "    mse = calculate_mse(y_actual, y_pred)\n",
        "    rmse = mse ** 0.5\n",
        "    return rmse\n",
        "mae = calculate_mae(Y_actual, Y_pred)\n",
        "mse = calculate_mse(Y_actual, Y_pred)\n",
        "rmse = calculate_rmse(Y_actual, Y_pred)\n",
        "print(\"Manual Calculation Results:\")\n",
        "print(f\"Mean Absolute Error (MAE): {mae}\")\n",
        "print(f\"Mean Squared Error (MSE): {mse}\")\n",
        "print(f\"Root Mean Squared Error (RMSE): {rmse}\")"
      ]
    }
  ]
}